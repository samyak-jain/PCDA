{
 "cells": [
  {
   "cell_type": "code",
   "execution_count": 57,
   "metadata": {},
   "outputs": [
    {
     "name": "stdout",
     "output_type": "stream",
     "text": [
      "/home/samyak/Documents/coding/learn/PCDA/SLPA\n"
     ]
    }
   ],
   "source": [
    "%cd SLPA"
   ]
  },
  {
   "cell_type": "code",
   "execution_count": 60,
   "metadata": {},
   "outputs": [],
   "source": [
    "x = !echo *.cpp"
   ]
  },
  {
   "cell_type": "code",
   "execution_count": 88,
   "metadata": {},
   "outputs": [
    {
     "name": "stdout",
     "output_type": "stream",
     "text": [
      "CommonFuns.cpp\n",
      "fileOpts.cpp\n",
      "main_SLPA.cpp\n",
      "MTexample.cpp\n",
      "Net.cpp\n",
      "NODE.cpp\n",
      "rndNumbers.cpp\n",
      "SLPA.cpp\n"
     ]
    }
   ],
   "source": [
    "for i in x[0].split():\n",
    "    print(i)\n",
    "    !gcc -fpreprocessed -dD -E {i} > {i}_test"
   ]
  },
  {
   "cell_type": "code",
   "execution_count": 86,
   "metadata": {},
   "outputs": [],
   "source": []
  },
  {
   "cell_type": "code",
   "execution_count": 87,
   "metadata": {},
   "outputs": [
    {
     "name": "stdout",
     "output_type": "stream",
     "text": [
      "cp: omitting directory '../SLPA_C++v1.3/output'\n",
      "cp: omitting directory '../SLPA_C++v1.3/output2'\n"
     ]
    }
   ],
   "source": [
    "!cp ../SLPA_C++v1.3/* ."
   ]
  },
  {
   "cell_type": "code",
   "execution_count": 94,
   "metadata": {},
   "outputs": [
    {
     "name": "stdout",
     "output_type": "stream",
     "text": [
      "mv: cannot stat 'fileOpts.cpp_test': No such file or directory\n",
      "mv: cannot stat 'main_SLPA.cpp_test': No such file or directory\n",
      "mv: cannot stat 'MTexample.cpp_test': No such file or directory\n",
      "mv: cannot stat 'Net.cpp_test': No such file or directory\n",
      "mv: cannot stat 'NODE.cpp_test': No such file or directory\n",
      "mv: cannot stat 'rndNumbers.cpp_test': No such file or directory\n",
      "mv: cannot stat 'SLPA.cpp_test': No such file or directory\n"
     ]
    }
   ],
   "source": [
    "for i in x[0].split()[1:]:\n",
    "    !mv {i}_test {i}"
   ]
  },
  {
   "cell_type": "code",
   "execution_count": 90,
   "metadata": {},
   "outputs": [],
   "source": [
    "!rm test.cpp"
   ]
  },
  {
   "cell_type": "code",
   "execution_count": null,
   "metadata": {},
   "outputs": [],
   "source": []
  }
 ],
 "metadata": {
  "kernelspec": {
   "display_name": "Python 3",
   "language": "python",
   "name": "python3"
  },
  "language_info": {
   "codemirror_mode": {
    "name": "ipython",
    "version": 3
   },
   "file_extension": ".py",
   "mimetype": "text/x-python",
   "name": "python",
   "nbconvert_exporter": "python",
   "pygments_lexer": "ipython3",
   "version": "3.7.0"
  }
 },
 "nbformat": 4,
 "nbformat_minor": 2
}
