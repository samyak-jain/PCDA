{
 "cells": [
  {
   "cell_type": "code",
   "execution_count": 6,
   "metadata": {},
   "outputs": [],
   "source": [
    "import networkx as nx\n",
    "import random"
   ]
  },
  {
   "cell_type": "code",
   "execution_count": 49,
   "metadata": {},
   "outputs": [],
   "source": [
    "g=nx.gnm_random_graph(5,5)"
   ]
  },
  {
   "cell_type": "code",
   "execution_count": 50,
   "metadata": {},
   "outputs": [],
   "source": [
    "for (u,v,w) in g.edges(data=True):\n",
    "    w['weight'] = random.randint(0,10)"
   ]
  },
  {
   "cell_type": "code",
   "execution_count": 51,
   "metadata": {},
   "outputs": [],
   "source": [
    "a = nx.to_numpy_matrix(g)"
   ]
  },
  {
   "cell_type": "code",
   "execution_count": 52,
   "metadata": {},
   "outputs": [],
   "source": [
    "x = \"\"\n",
    "for i in range(5):\n",
    "    for j in range(5):\n",
    "        x += str(i) + \" \" + str(j) + \" \" + str(int(a[i,j])) + \"\\n\""
   ]
  },
  {
   "cell_type": "code",
   "execution_count": 56,
   "metadata": {},
   "outputs": [
    {
     "name": "stdout",
     "output_type": "stream",
     "text": [
      "0 0 0\n",
      "0 1 0\n",
      "0 2 0\n",
      "0 3 4\n",
      "0 4 0\n",
      "1 0 0\n",
      "1 1 0\n",
      "1 2 0\n",
      "1 3 7\n",
      "1 4 8\n",
      "2 0 0\n",
      "2 1 0\n",
      "2 2 0\n",
      "2 3 8\n",
      "2 4 0\n",
      "3 0 4\n",
      "3 1 7\n",
      "3 2 8\n",
      "3 3 0\n",
      "3 4 0\n",
      "4 0 0\n",
      "4 1 8\n",
      "4 2 0\n",
      "4 3 0\n",
      "4 4 0\n",
      "\n"
     ]
    }
   ],
   "source": [
    "print(x)"
   ]
  },
  {
   "cell_type": "code",
   "execution_count": 54,
   "metadata": {},
   "outputs": [
    {
     "name": "stdout",
     "output_type": "stream",
     "text": [
      "Writing 'x' (str) to file 'graph.txt'.\n"
     ]
    }
   ],
   "source": [
    "%store x > graph.txt"
   ]
  }
 ],
 "metadata": {
  "kernelspec": {
   "display_name": "Python 3",
   "language": "python",
   "name": "python3"
  },
  "language_info": {
   "codemirror_mode": {
    "name": "ipython",
    "version": 3
   },
   "file_extension": ".py",
   "mimetype": "text/x-python",
   "name": "python",
   "nbconvert_exporter": "python",
   "pygments_lexer": "ipython3",
   "version": "3.7.0"
  }
 },
 "nbformat": 4,
 "nbformat_minor": 2
}
